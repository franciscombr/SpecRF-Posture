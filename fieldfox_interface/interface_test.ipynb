{
 "cells": [
  {
   "cell_type": "code",
   "execution_count": 1,
   "metadata": {},
   "outputs": [],
   "source": [
    "import pyvisa\n",
    "import numpy as np"
   ]
  },
  {
   "cell_type": "code",
   "execution_count": 2,
   "metadata": {},
   "outputs": [
    {
     "data": {
      "text/plain": [
       "('USB0::0x2A8D::0x5C18::MY57271394::0::INSTR',)"
      ]
     },
     "execution_count": 2,
     "metadata": {},
     "output_type": "execute_result"
    }
   ],
   "source": [
    "rm = pyvisa.ResourceManager()\n",
    "rm.list_resources()"
   ]
  },
  {
   "cell_type": "code",
   "execution_count": 3,
   "metadata": {},
   "outputs": [
    {
     "name": "stdout",
     "output_type": "stream",
     "text": [
      "Keysight Technologies,N9914A,MY57271394,A.12.56\n",
      "USBInstrument at USB0::0x2A8D::0x5C18::MY57271394::0::INSTR\n"
     ]
    }
   ],
   "source": [
    "ffox = rm.open_resource('USB0::0x2A8D::0x5C18::MY57271394::0::INSTR')\n",
    "ffox.read_termination = '\\n'\n",
    "ffox.write_termination = '\\n'\n",
    "print(ffox.query('*IDN?'))\n",
    "print(ffox)\n",
    "ffox.timeout = 10000"
   ]
  },
  {
   "cell_type": "code",
   "execution_count": 82,
   "metadata": {},
   "outputs": [
    {
     "name": "stdout",
     "output_type": "stream",
     "text": [
      "Keysight Technologies,N9914A,MY57271394,A.12.56\n"
     ]
    }
   ],
   "source": [
    "ffox.write(\"*CLS\")\n",
    "ffox.write(\"*IDN?\")\n",
    "print(ffox.read())"
   ]
  },
  {
   "cell_type": "code",
   "execution_count": 60,
   "metadata": {},
   "outputs": [],
   "source": [
    "def Errcheck(myFieldFox):\n",
    "    myError = []\n",
    "    ErrorList = myFieldFox.query(\"SYST:ERR?\").split(',')\n",
    "    Error = ErrorList[0]\n",
    "    if int(Error) == 0:\n",
    "        print (\"+0, No Error!\")\n",
    "    else:\n",
    "        while int(Error)!=0:\n",
    "            print (\"Error #: \" + ErrorList[0])\n",
    "            print (\"Error Description: \" + ErrorList[1])\n",
    "            myError.append(ErrorList[0])\n",
    "            myError.append(ErrorList[1])\n",
    "            ErrorList = myFieldFox.query(\"SYST:ERR?\").split(',')\n",
    "            Error = ErrorList[0]\n",
    "            myError = list(myError)\n",
    "    return myError"
   ]
  },
  {
   "cell_type": "code",
   "execution_count": 83,
   "metadata": {},
   "outputs": [
    {
     "name": "stdout",
     "output_type": "stream",
     "text": [
      "Error #: -410\n",
      "Error Description: \"Query INTERRUPTED\"\n",
      "Error #: -410\n",
      "Error Description: \"Query INTERRUPTED\"\n",
      "['-410', '\"Query INTERRUPTED\"', '-410', '\"Query INTERRUPTED\"']\n"
     ]
    }
   ],
   "source": [
    "print(Errcheck(ffox))"
   ]
  },
  {
   "cell_type": "code",
   "execution_count": 62,
   "metadata": {},
   "outputs": [
    {
     "name": "stdout",
     "output_type": "stream",
     "text": [
      "Preset complete, *OPC? returned: 1\n"
     ]
    }
   ],
   "source": [
    "ffox.write(\"SYST:PRES;*OPC?\")\n",
    "print(\"Preset complete, *OPC? returned: \" + ffox.read())"
   ]
  },
  {
   "cell_type": "code",
   "execution_count": 63,
   "metadata": {},
   "outputs": [
    {
     "name": "stdout",
     "output_type": "stream",
     "text": [
      "1\n"
     ]
    }
   ],
   "source": [
    "ffox.write(\"INST:SEL 'NA';*OPC?\")\n",
    "print(ffox.read())"
   ]
  },
  {
   "cell_type": "code",
   "execution_count": 64,
   "metadata": {},
   "outputs": [
    {
     "name": "stdout",
     "output_type": "stream",
     "text": [
      "Number of trace points: 201\n"
     ]
    }
   ],
   "source": [
    "ffox.write(\"SENS:SWE:POIN?\")\n",
    "numPoints = ffox.read()\n",
    "print(\"Number of trace points: \" + numPoints)"
   ]
  },
  {
   "cell_type": "code",
   "execution_count": 65,
   "metadata": {},
   "outputs": [
    {
     "name": "stdout",
     "output_type": "stream",
     "text": [
      "FieldFox start frequency = 30000 stop frequency = 6500000000\n"
     ]
    }
   ],
   "source": [
    "ffox.write(\"SENS:FREQ:START?\")\n",
    "startFreq = ffox.read()\n",
    "ffox.write(\"SENS:FREQ:STOP?\")\n",
    "stopFreq = ffox.read()\n",
    "print(\"FieldFox start frequency = \" + startFreq + \" stop frequency = \" + stopFreq)"
   ]
  },
  {
   "cell_type": "code",
   "execution_count": 66,
   "metadata": {},
   "outputs": [
    {
     "name": "stdout",
     "output_type": "stream",
     "text": [
      "1\n"
     ]
    }
   ],
   "source": [
    "ffox.write(\"CALC:PAR:DEF S21;*OPC?\")\n",
    "print(ffox.read())"
   ]
  },
  {
   "cell_type": "code",
   "execution_count": 78,
   "metadata": {},
   "outputs": [
    {
     "name": "stdout",
     "output_type": "stream",
     "text": [
      "1\n"
     ]
    }
   ],
   "source": [
    "ffox.write(\"DISP:WIND:TRAC1:Y:AUTO;*OPC?\")\n",
    "print(ffox.read())"
   ]
  },
  {
   "cell_type": "code",
   "execution_count": 67,
   "metadata": {},
   "outputs": [
    {
     "data": {
      "text/plain": [
       "'1'"
      ]
     },
     "execution_count": 67,
     "metadata": {},
     "output_type": "execute_result"
    }
   ],
   "source": [
    "ffox.write(\"INIT:CONT OFF;*OPC?\")\n",
    "ffox.read()"
   ]
  },
  {
   "cell_type": "code",
   "execution_count": 68,
   "metadata": {},
   "outputs": [
    {
     "name": "stdout",
     "output_type": "stream",
     "text": [
      "[3.00000000e+04 3.25298500e+07 6.50297000e+07 9.75295500e+07\n",
      " 1.30029400e+08 1.62529250e+08 1.95029100e+08 2.27528950e+08\n",
      " 2.60028800e+08 2.92528650e+08 3.25028500e+08 3.57528350e+08\n",
      " 3.90028200e+08 4.22528050e+08 4.55027900e+08 4.87527750e+08\n",
      " 5.20027600e+08 5.52527450e+08 5.85027300e+08 6.17527150e+08\n",
      " 6.50027000e+08 6.82526850e+08 7.15026700e+08 7.47526550e+08\n",
      " 7.80026400e+08 8.12526250e+08 8.45026100e+08 8.77525950e+08\n",
      " 9.10025800e+08 9.42525650e+08 9.75025500e+08 1.00752535e+09\n",
      " 1.04002520e+09 1.07252505e+09 1.10502490e+09 1.13752475e+09\n",
      " 1.17002460e+09 1.20252445e+09 1.23502430e+09 1.26752415e+09\n",
      " 1.30002400e+09 1.33252385e+09 1.36502370e+09 1.39752355e+09\n",
      " 1.43002340e+09 1.46252325e+09 1.49502310e+09 1.52752295e+09\n",
      " 1.56002280e+09 1.59252265e+09 1.62502250e+09 1.65752235e+09\n",
      " 1.69002220e+09 1.72252205e+09 1.75502190e+09 1.78752175e+09\n",
      " 1.82002160e+09 1.85252145e+09 1.88502130e+09 1.91752115e+09\n",
      " 1.95002100e+09 1.98252085e+09 2.01502070e+09 2.04752055e+09\n",
      " 2.08002040e+09 2.11252025e+09 2.14502010e+09 2.17751995e+09\n",
      " 2.21001980e+09 2.24251965e+09 2.27501950e+09 2.30751935e+09\n",
      " 2.34001920e+09 2.37251905e+09 2.40501890e+09 2.43751875e+09\n",
      " 2.47001860e+09 2.50251845e+09 2.53501830e+09 2.56751815e+09\n",
      " 2.60001800e+09 2.63251785e+09 2.66501770e+09 2.69751755e+09\n",
      " 2.73001740e+09 2.76251725e+09 2.79501710e+09 2.82751695e+09\n",
      " 2.86001680e+09 2.89251665e+09 2.92501650e+09 2.95751635e+09\n",
      " 2.99001620e+09 3.02251605e+09 3.05501590e+09 3.08751575e+09\n",
      " 3.12001560e+09 3.15251545e+09 3.18501530e+09 3.21751515e+09\n",
      " 3.25001500e+09 3.28251485e+09 3.31501470e+09 3.34751455e+09\n",
      " 3.38001440e+09 3.41251425e+09 3.44501410e+09 3.47751395e+09\n",
      " 3.51001380e+09 3.54251365e+09 3.57501350e+09 3.60751335e+09\n",
      " 3.64001320e+09 3.67251305e+09 3.70501290e+09 3.73751275e+09\n",
      " 3.77001260e+09 3.80251245e+09 3.83501230e+09 3.86751215e+09\n",
      " 3.90001200e+09 3.93251185e+09 3.96501170e+09 3.99751155e+09\n",
      " 4.03001140e+09 4.06251125e+09 4.09501110e+09 4.12751095e+09\n",
      " 4.16001080e+09 4.19251065e+09 4.22501050e+09 4.25751035e+09\n",
      " 4.29001020e+09 4.32251005e+09 4.35500990e+09 4.38750975e+09\n",
      " 4.42000960e+09 4.45250945e+09 4.48500930e+09 4.51750915e+09\n",
      " 4.55000900e+09 4.58250885e+09 4.61500870e+09 4.64750855e+09\n",
      " 4.68000840e+09 4.71250825e+09 4.74500810e+09 4.77750795e+09\n",
      " 4.81000780e+09 4.84250765e+09 4.87500750e+09 4.90750735e+09\n",
      " 4.94000720e+09 4.97250705e+09 5.00500690e+09 5.03750675e+09\n",
      " 5.07000660e+09 5.10250645e+09 5.13500630e+09 5.16750615e+09\n",
      " 5.20000600e+09 5.23250585e+09 5.26500570e+09 5.29750555e+09\n",
      " 5.33000540e+09 5.36250525e+09 5.39500510e+09 5.42750495e+09\n",
      " 5.46000480e+09 5.49250465e+09 5.52500450e+09 5.55750435e+09\n",
      " 5.59000420e+09 5.62250405e+09 5.65500390e+09 5.68750375e+09\n",
      " 5.72000360e+09 5.75250345e+09 5.78500330e+09 5.81750315e+09\n",
      " 5.85000300e+09 5.88250285e+09 5.91500270e+09 5.94750255e+09\n",
      " 5.98000240e+09 6.01250225e+09 6.04500210e+09 6.07750195e+09\n",
      " 6.11000180e+09 6.14250165e+09 6.17500150e+09 6.20750135e+09\n",
      " 6.24000120e+09 6.27250105e+09 6.30500090e+09 6.33750075e+09\n",
      " 6.37000060e+09 6.40250045e+09 6.43500030e+09 6.46750015e+09\n",
      " 6.50000000e+09]\n"
     ]
    }
   ],
   "source": [
    "stimulusArray = np.linspace(float(startFreq),float(stopFreq),int(numPoints))\n",
    "print(stimulusArray)"
   ]
  },
  {
   "cell_type": "code",
   "execution_count": 95,
   "metadata": {},
   "outputs": [
    {
     "name": "stdout",
     "output_type": "stream",
     "text": [
      "Single Tigger complete, *OPC? returned:1\n"
     ]
    }
   ],
   "source": [
    "ffox.write(\"INIT:IMM;*OPC?\")\n",
    "print(\"Single Tigger complete, *OPC? returned:\" + ffox.read())"
   ]
  },
  {
   "cell_type": "code",
   "execution_count": 88,
   "metadata": {},
   "outputs": [
    {
     "name": "stdout",
     "output_type": "stream",
     "text": [
      "9.987516222E-01,-1.10513362E-02,9.991967811E-01,-1.03843706E-02,9.993037537E-01,-1.05424544E-02,9.986738211E-01,-1.08729474E-02,9.989452487E-01,-1.10707624E-02,9.989735278E-01,-1.05083314E-02,9.992621711E-01,-1.07985235E-02,9.992632597E-01,-1.02903824E-02,9.990778868E-01,-1.06453207E-02,9.989018159E-01,-1.09870490E-02\n"
     ]
    }
   ],
   "source": [
    "ffox.write(\"CALC:DATA:SDAT?\")\n",
    "ff_SA_Trace_Data = ffox.read()\n",
    "print(ff_SA_Trace_Data)"
   ]
  },
  {
   "cell_type": "code",
   "execution_count": 89,
   "metadata": {},
   "outputs": [
    {
     "name": "stdout",
     "output_type": "stream",
     "text": [
      "20\n"
     ]
    }
   ],
   "source": [
    "ff_SA_Trace_Data_Array = ff_SA_Trace_Data.split(\",\")\n",
    "print(len(ff_SA_Trace_Data_Array))\n"
   ]
  },
  {
   "cell_type": "code",
   "execution_count": 79,
   "metadata": {},
   "outputs": [
    {
     "data": {
      "text/plain": [
       "13"
      ]
     },
     "execution_count": 79,
     "metadata": {},
     "output_type": "execute_result"
    }
   ],
   "source": [
    "ffox.write(\"INIT:CONT ON\")"
   ]
  },
  {
   "cell_type": "code",
   "execution_count": 56,
   "metadata": {},
   "outputs": [],
   "source": [
    "ffox.clear()\n"
   ]
  },
  {
   "cell_type": "code",
   "execution_count": 57,
   "metadata": {},
   "outputs": [],
   "source": [
    "ffox.close()"
   ]
  },
  {
   "cell_type": "code",
   "execution_count": null,
   "metadata": {},
   "outputs": [],
   "source": []
  }
 ],
 "metadata": {
  "kernelspec": {
   "display_name": "Python 3",
   "language": "python",
   "name": "python3"
  },
  "language_info": {
   "codemirror_mode": {
    "name": "ipython",
    "version": 3
   },
   "file_extension": ".py",
   "mimetype": "text/x-python",
   "name": "python",
   "nbconvert_exporter": "python",
   "pygments_lexer": "ipython3",
   "version": "3.10.12"
  }
 },
 "nbformat": 4,
 "nbformat_minor": 2
}
